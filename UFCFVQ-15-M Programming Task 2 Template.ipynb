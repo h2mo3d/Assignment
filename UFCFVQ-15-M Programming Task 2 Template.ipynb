{
 "cells": [
  {
   "cell_type": "markdown",
   "metadata": {},
   "source": [
    "# UFCFVQ-15-M Programming for Data Science\n",
    "# Programming Task 2\n",
    "\n",
    "## Student Id: "
   ]
  },
  {
   "cell_type": "markdown",
   "metadata": {},
   "source": [
    "### Requirement FR2.1 - Read CSV data from a file (with a header row) into memory "
   ]
  },
  {
   "cell_type": "code",
   "execution_count": 3,
   "metadata": {},
   "outputs": [
    {
     "name": "stdout",
     "output_type": "stream",
     "text": [
      "       Unnamed: 0  id_student gender                region  \\\n",
      "0               0       11391      M   East Anglian Region   \n",
      "1               1       28400      F              Scotland   \n",
      "2               2       31604      F     South East Region   \n",
      "3               3       32885      F  West Midlands Region   \n",
      "4               4       38053      M                 Wales   \n",
      "...           ...         ...    ...                   ...   \n",
      "26741       26741     2620947      F              Scotland   \n",
      "26742       26742     2645731      F   East Anglian Region   \n",
      "26743       26743     2648187      F          South Region   \n",
      "26744       26744     2679821      F     South East Region   \n",
      "26745       26745     2684003      F      Yorkshire Region   \n",
      "\n",
      "           highest_education age_band disability final_result  score  \n",
      "0           HE Qualification     55<=          N         Pass   82.0  \n",
      "1           HE Qualification    35-55          N         Pass   67.0  \n",
      "2      A Level or Equivalent    35-55          N         Pass   76.0  \n",
      "3         Lower Than A Level     0-35          N         Pass   55.0  \n",
      "4      A Level or Equivalent    35-55          N         Pass   68.0  \n",
      "...                      ...      ...        ...          ...    ...  \n",
      "26741  A Level or Equivalent     0-35          Y  Distinction   89.0  \n",
      "26742     Lower Than A Level    35-55          N  Distinction   89.0  \n",
      "26743  A Level or Equivalent     0-35          Y         Pass   77.0  \n",
      "26744     Lower Than A Level    35-55          N    Withdrawn   92.0  \n",
      "26745       HE Qualification    35-55          N  Distinction   83.0  \n",
      "\n",
      "[26746 rows x 9 columns]\n"
     ]
    }
   ],
   "source": [
    "# add code here\n",
    "import pandas as pd #importing the pandas library and us pd as the shorcut for it\n",
    "dframe = pd.read_csv('task2a.csv') # reading the file of csv \n",
    "print(dframe) # printing the data in the file that we have read above"
   ]
  },
  {
   "cell_type": "markdown",
   "metadata": {},
   "source": [
    "### Requirement FR2.2 - Read CSV data from a file (without a header row) into memory"
   ]
  },
  {
   "cell_type": "code",
   "execution_count": 4,
   "metadata": {},
   "outputs": [
    {
     "name": "stdout",
     "output_type": "stream",
     "text": [
      "       id_student  click_events\n",
      "0            6516        2791.0\n",
      "1            8462         656.0\n",
      "2           11391         934.0\n",
      "3           23629           NaN\n",
      "4           23698         910.0\n",
      "...           ...           ...\n",
      "26069     2698251        1511.0\n",
      "26070     2698257         758.0\n",
      "26071     2698535        4241.0\n",
      "26072     2698577         717.0\n",
      "26073     2698588         605.0\n",
      "\n",
      "[26074 rows x 2 columns]\n"
     ]
    }
   ],
   "source": [
    "# add code here\n",
    "\n",
    "dframe1 = pd.read_csv('task2b.csv', names=['id_student', 'click_events'], header=None) # reading the csv file and removing the headers and adding new headers to it\n",
    "print(dframe1)"
   ]
  },
  {
   "cell_type": "markdown",
   "metadata": {},
   "source": [
    "### Requirement FR2.3 - Merge the data from two Dataframes"
   ]
  },
  {
   "cell_type": "code",
   "execution_count": 6,
   "metadata": {},
   "outputs": [
    {
     "name": "stdout",
     "output_type": "stream",
     "text": [
      "       Unnamed: 0  id_student gender                region  \\\n",
      "0               0       11391      M   East Anglian Region   \n",
      "1               1       28400      F              Scotland   \n",
      "2               2       31604      F     South East Region   \n",
      "3               3       32885      F  West Midlands Region   \n",
      "4               4       38053      M                 Wales   \n",
      "...           ...         ...    ...                   ...   \n",
      "26716       26741     2620947      F              Scotland   \n",
      "26717       26742     2645731      F   East Anglian Region   \n",
      "26718       26743     2648187      F          South Region   \n",
      "26719       26744     2679821      F     South East Region   \n",
      "26720       26745     2684003      F      Yorkshire Region   \n",
      "\n",
      "           highest_education age_band disability final_result  score  \\\n",
      "0           HE Qualification     55<=          N         Pass   82.0   \n",
      "1           HE Qualification    35-55          N         Pass   67.0   \n",
      "2      A Level or Equivalent    35-55          N         Pass   76.0   \n",
      "3         Lower Than A Level     0-35          N         Pass   55.0   \n",
      "4      A Level or Equivalent    35-55          N         Pass   68.0   \n",
      "...                      ...      ...        ...          ...    ...   \n",
      "26716  A Level or Equivalent     0-35          Y  Distinction   89.0   \n",
      "26717     Lower Than A Level    35-55          N  Distinction   89.0   \n",
      "26718  A Level or Equivalent     0-35          Y         Pass   77.0   \n",
      "26719     Lower Than A Level    35-55          N    Withdrawn   92.0   \n",
      "26720       HE Qualification    35-55          N  Distinction   83.0   \n",
      "\n",
      "       click_events  \n",
      "0             934.0  \n",
      "1            1435.0  \n",
      "2            2158.0  \n",
      "3            1034.0  \n",
      "4            2445.0  \n",
      "...             ...  \n",
      "26716         476.0  \n",
      "26717         893.0  \n",
      "26718         312.0  \n",
      "26719         275.0  \n",
      "26720         616.0  \n",
      "\n",
      "[26721 rows x 10 columns]\n"
     ]
    }
   ],
   "source": [
    "# add code here\n",
    "merged = pd.merge(dframe, dframe1, on=['id_student']) # merging the two files with students Id that is common in both files\n",
    "print(merged)"
   ]
  },
  {
   "cell_type": "markdown",
   "metadata": {},
   "source": [
    "### Requirement FR2.4 - Remove any rows that contain missing values"
   ]
  },
  {
   "cell_type": "code",
   "execution_count": 7,
   "metadata": {},
   "outputs": [
    {
     "name": "stdout",
     "output_type": "stream",
     "text": [
      "       Unnamed: 0  id_student gender                region  \\\n",
      "0               0       11391      M   East Anglian Region   \n",
      "1               1       28400      F              Scotland   \n",
      "2               2       31604      F     South East Region   \n",
      "3               3       32885      F  West Midlands Region   \n",
      "4               4       38053      M                 Wales   \n",
      "...           ...         ...    ...                   ...   \n",
      "26716       26741     2620947      F              Scotland   \n",
      "26717       26742     2645731      F   East Anglian Region   \n",
      "26718       26743     2648187      F          South Region   \n",
      "26719       26744     2679821      F     South East Region   \n",
      "26720       26745     2684003      F      Yorkshire Region   \n",
      "\n",
      "           highest_education age_band disability final_result  score  \\\n",
      "0           HE Qualification     55<=          N         Pass   82.0   \n",
      "1           HE Qualification    35-55          N         Pass   67.0   \n",
      "2      A Level or Equivalent    35-55          N         Pass   76.0   \n",
      "3         Lower Than A Level     0-35          N         Pass   55.0   \n",
      "4      A Level or Equivalent    35-55          N         Pass   68.0   \n",
      "...                      ...      ...        ...          ...    ...   \n",
      "26716  A Level or Equivalent     0-35          Y  Distinction   89.0   \n",
      "26717     Lower Than A Level    35-55          N  Distinction   89.0   \n",
      "26718  A Level or Equivalent     0-35          Y         Pass   77.0   \n",
      "26719     Lower Than A Level    35-55          N    Withdrawn   92.0   \n",
      "26720       HE Qualification    35-55          N  Distinction   83.0   \n",
      "\n",
      "       click_events  \n",
      "0             934.0  \n",
      "1            1435.0  \n",
      "2            2158.0  \n",
      "3            1034.0  \n",
      "4            2445.0  \n",
      "...             ...  \n",
      "26716         476.0  \n",
      "26717         893.0  \n",
      "26718         312.0  \n",
      "26719         275.0  \n",
      "26720         616.0  \n",
      "\n",
      "[25332 rows x 10 columns]\n"
     ]
    }
   ],
   "source": [
    "# add code here\n",
    "novalues = merged.dropna() # dropping the rows with no values using dropna\n",
    "print(novalues)"
   ]
  },
  {
   "cell_type": "markdown",
   "metadata": {},
   "source": [
    "### Requirement FR2.5 - Filter out unnecessary rows"
   ]
  },
  {
   "cell_type": "code",
   "execution_count": 9,
   "metadata": {},
   "outputs": [
    {
     "name": "stdout",
     "output_type": "stream",
     "text": [
      "       Unnamed: 0  id_student gender                region  \\\n",
      "0               0       11391      M   East Anglian Region   \n",
      "1               1       28400      F              Scotland   \n",
      "2               2       31604      F     South East Region   \n",
      "3               3       32885      F  West Midlands Region   \n",
      "4               4       38053      M                 Wales   \n",
      "...           ...         ...    ...                   ...   \n",
      "26716       26741     2620947      F              Scotland   \n",
      "26717       26742     2645731      F   East Anglian Region   \n",
      "26718       26743     2648187      F          South Region   \n",
      "26719       26744     2679821      F     South East Region   \n",
      "26720       26745     2684003      F      Yorkshire Region   \n",
      "\n",
      "           highest_education age_band disability final_result  score  \\\n",
      "0           HE Qualification     55<=          N         Pass   82.0   \n",
      "1           HE Qualification    35-55          N         Pass   67.0   \n",
      "2      A Level or Equivalent    35-55          N         Pass   76.0   \n",
      "3         Lower Than A Level     0-35          N         Pass   55.0   \n",
      "4      A Level or Equivalent    35-55          N         Pass   68.0   \n",
      "...                      ...      ...        ...          ...    ...   \n",
      "26716  A Level or Equivalent     0-35          Y  Distinction   89.0   \n",
      "26717     Lower Than A Level    35-55          N  Distinction   89.0   \n",
      "26718  A Level or Equivalent     0-35          Y         Pass   77.0   \n",
      "26719     Lower Than A Level    35-55          N    Withdrawn   92.0   \n",
      "26720       HE Qualification    35-55          N  Distinction   83.0   \n",
      "\n",
      "       click_events  \n",
      "0             934.0  \n",
      "1            1435.0  \n",
      "2            2158.0  \n",
      "3            1034.0  \n",
      "4            2445.0  \n",
      "...             ...  \n",
      "26716         476.0  \n",
      "26717         893.0  \n",
      "26718         312.0  \n",
      "26719         275.0  \n",
      "26720         616.0  \n",
      "\n",
      "[24949 rows x 10 columns]\n"
     ]
    }
   ],
   "source": [
    "# add code here\n",
    "filtered = merged[merged.click_events >=50]\n",
    "print(filtered)"
   ]
  },
  {
   "cell_type": "markdown",
   "metadata": {},
   "source": [
    "### Requirement FR2.6 - Rename the score column"
   ]
  },
  {
   "cell_type": "code",
   "execution_count": 10,
   "metadata": {},
   "outputs": [
    {
     "name": "stdout",
     "output_type": "stream",
     "text": [
      "       Unnamed: 0  id_student gender                region  \\\n",
      "0               0       11391      M   East Anglian Region   \n",
      "1               1       28400      F              Scotland   \n",
      "2               2       31604      F     South East Region   \n",
      "3               3       32885      F  West Midlands Region   \n",
      "4               4       38053      M                 Wales   \n",
      "...           ...         ...    ...                   ...   \n",
      "26716       26741     2620947      F              Scotland   \n",
      "26717       26742     2645731      F   East Anglian Region   \n",
      "26718       26743     2648187      F          South Region   \n",
      "26719       26744     2679821      F     South East Region   \n",
      "26720       26745     2684003      F      Yorkshire Region   \n",
      "\n",
      "           highest_education age_band disability final_result  Total_Marks  \\\n",
      "0           HE Qualification     55<=          N         Pass         82.0   \n",
      "1           HE Qualification    35-55          N         Pass         67.0   \n",
      "2      A Level or Equivalent    35-55          N         Pass         76.0   \n",
      "3         Lower Than A Level     0-35          N         Pass         55.0   \n",
      "4      A Level or Equivalent    35-55          N         Pass         68.0   \n",
      "...                      ...      ...        ...          ...          ...   \n",
      "26716  A Level or Equivalent     0-35          Y  Distinction         89.0   \n",
      "26717     Lower Than A Level    35-55          N  Distinction         89.0   \n",
      "26718  A Level or Equivalent     0-35          Y         Pass         77.0   \n",
      "26719     Lower Than A Level    35-55          N    Withdrawn         92.0   \n",
      "26720       HE Qualification    35-55          N  Distinction         83.0   \n",
      "\n",
      "       click_events  \n",
      "0             934.0  \n",
      "1            1435.0  \n",
      "2            2158.0  \n",
      "3            1034.0  \n",
      "4            2445.0  \n",
      "...             ...  \n",
      "26716         476.0  \n",
      "26717         893.0  \n",
      "26718         312.0  \n",
      "26719         275.0  \n",
      "26720         616.0  \n",
      "\n",
      "[26721 rows x 10 columns]\n"
     ]
    }
   ],
   "source": [
    "# add code here\n",
    "rename = merged.rename(columns={'score': 'Total_Marks'})\n",
    "print(rename)"
   ]
  },
  {
   "cell_type": "markdown",
   "metadata": {},
   "source": [
    "### Requirement FR2.7 - Remove unnecessary column(s)"
   ]
  },
  {
   "cell_type": "code",
   "execution_count": 11,
   "metadata": {},
   "outputs": [
    {
     "name": "stdout",
     "output_type": "stream",
     "text": [
      "       Unnamed: 0  id_student gender age_band final_result  score  \\\n",
      "0               0       11391      M     55<=         Pass   82.0   \n",
      "1               1       28400      F    35-55         Pass   67.0   \n",
      "2               2       31604      F    35-55         Pass   76.0   \n",
      "3               3       32885      F     0-35         Pass   55.0   \n",
      "4               4       38053      M    35-55         Pass   68.0   \n",
      "...           ...         ...    ...      ...          ...    ...   \n",
      "26716       26741     2620947      F     0-35  Distinction   89.0   \n",
      "26717       26742     2645731      F    35-55  Distinction   89.0   \n",
      "26718       26743     2648187      F     0-35         Pass   77.0   \n",
      "26719       26744     2679821      F    35-55    Withdrawn   92.0   \n",
      "26720       26745     2684003      F    35-55  Distinction   83.0   \n",
      "\n",
      "       click_events  \n",
      "0             934.0  \n",
      "1            1435.0  \n",
      "2            2158.0  \n",
      "3            1034.0  \n",
      "4            2445.0  \n",
      "...             ...  \n",
      "26716         476.0  \n",
      "26717         893.0  \n",
      "26718         312.0  \n",
      "26719         275.0  \n",
      "26720         616.0  \n",
      "\n",
      "[26721 rows x 7 columns]\n"
     ]
    }
   ],
   "source": [
    "# add code here\n",
    "removing = merged.drop(['region', 'highest_education','disability'], axis=1)\n",
    "print(removing)"
   ]
  },
  {
   "cell_type": "markdown",
   "metadata": {},
   "source": [
    "### Requirement FR2.8 - Write the DataFrame data to a CSV file"
   ]
  },
  {
   "cell_type": "code",
   "execution_count": 12,
   "metadata": {},
   "outputs": [],
   "source": [
    "# add code here\n",
    "removing.to_csv(\"Updatedone.csv\", sep=\"\\t\")"
   ]
  },
  {
   "cell_type": "markdown",
   "metadata": {},
   "source": [
    "### Requirement FR2.9 - Investigate the effects of age-group on attainment and engagement"
   ]
  },
  {
   "cell_type": "code",
   "execution_count": 27,
   "metadata": {},
   "outputs": [
    {
     "name": "stdout",
     "output_type": "stream",
     "text": [
      "  age_band      score\n",
      "0     0-35  72.452522\n",
      "1    35-55  74.911367\n",
      "2     55<=  77.194872\n"
     ]
    }
   ],
   "source": [
    "# add code here\n",
    "import numpy as np # importing the numpy library and use it as np\n",
    "newdata = pd.read_csv(\"Updatedone.csv\", delimiter=\"\\t\", index_col=False)\n",
    "newdata = newdata.groupby('age_band')\\ # grouping the dataset using age_band\n",
    "            .agg({'score':'mean'})\\ # finding the mean for the score for each gouped age band\n",
    "            .reset_index()\n",
    "print(newdata)"
   ]
  },
  {
   "cell_type": "markdown",
   "metadata": {},
   "source": [
    "### Requirement FR2.10 - Present the results of the age-group investigation using an appropriate visualisation"
   ]
  },
  {
   "cell_type": "code",
   "execution_count": 57,
   "metadata": {},
   "outputs": [
    {
     "data": {
      "image/png": "[encoded data removed]",
      "text/plain": [
       "<Figure size 432x288 with 1 Axes>"
      ]
     },
     "metadata": {
      "needs_background": "light"
     },
     "output_type": "display_data"
    }
   ],
   "source": [
    "# add code here\n",
    "import matplotlib.pyplot as plt\n",
    "import seaborn as sns # importing the two libraries to use them in the visualization of the data\n",
    "chart = sns.barplot(x = 'age_band',y = 'score',data = removing, hue='gender') # assigning the barplot chart to a veriable so i can use it below to add the line\n",
    "chart.axhline(70) # adding the line to bar chart \n",
    "plt.show()"
   ]
  },
  {
   "cell_type": "markdown",
   "metadata": {},
   "source": [
    "### Requirement FR2.11 - Investigate the effects of engagement on attainment"
   ]
  },
  {
   "cell_type": "code",
   "execution_count": 91,
   "metadata": {},
   "outputs": [
    {
     "data": {
      "image/png": "[encoded data removed]",
      "text/plain": [
       "<Figure size 360x360 with 1 Axes>"
      ]
     },
     "metadata": {
      "needs_background": "light"
     },
     "output_type": "display_data"
    }
   ],
   "source": [
    "# add code here\n",
    "sns.catplot(x='age_band', y='score', data=removing, kind='box') # showing the effects that engagements of age band has effected the score\n",
    "plt.show()\n"
   ]
  },
  {
   "cell_type": "markdown",
   "metadata": {},
   "source": [
    "### Requirement FR2.12 - Test the hypothesis that there is a significant effect on attainment"
   ]
  },
  {
   "cell_type": "code",
   "execution_count": 92,
   "metadata": {},
   "outputs": [
    {
     "data": {
      "image/png": "[encoded data removed]",
      "text/plain": [
       "<Figure size 432x288 with 1 Axes>"
      ]
     },
     "metadata": {
      "needs_background": "light"
     },
     "output_type": "display_data"
    }
   ],
   "source": [
    "# add code here\n",
    "newdata.plot(x='age_band', y='score', marker='o', markerfacecolor=\"red\", markersize=12, linewidth=4) # showing the significant change of the score with the age band\n",
    "plt.show()"
   ]
  },
  {
   "cell_type": "markdown",
   "metadata": {},
   "source": [
    "# Process Development Report for Task 2\n",
    "\n",
    "One of the main objectives to study the data and analyze it, is to visualize it for better understanding and decision making. Python helps a lot in data visualization as it has several libraries and functions that helps achieving this purpose. I this task, we are assigned to read a data from a file and perform some data cleaning and visualization to get some results from this data set. The below steps are the task questions that been asked and I have done them to complete this task and visualize the data set. \n",
    "\tFirst step is to read the data set which is stored in CSV file and view the data the same structures that is available on the file to understand the headings and the data. \n",
    "\tOn the second step, I have read a new dataset without the headers to make the data clear and give headers from my side. This will help me on analyze to use a known headers and to perform the operations on the data. \n",
    "\tThirdly, I have jointed the two datasets and I have used the ‘student_id’ as the joint field to print the two datasets together.\n",
    "\tNow, to make the data cleaned, I have removed all the rows with no data in them and printed the new dataset with full of data. This step helps in avoiding any error when performing the calculations and study on the data as the empty rows will have no value to be read. \n",
    "\tIn this step, I have cleaned some rows that I believe are irrelevant to the data study that I am trying to perform. \n",
    "\tin steps 2.6 and 2.7, I have renamed the header ‘score’ to be named as ‘ Total Marks’ and then I removed some unwanted columns for the data visualization. This step has helped a lot on understanding the relations between the available data columns.\n",
    "\tAfter performing all the above cleaning of the data, I have created a new CSV file with the new dataset and stored it in the computer desktop.\n",
    "\tIn this task, I have performed some investigation to find the attainment and engagement on the age_band with the relation to scores. And in the next task, I visualize this investigation a bar plot chart. I also grouped the effects using the gender to see in each age band the differences between the genders.\n",
    "\tIn task 2.11 I have investigated the effects of attainment and engagement between the age bands and score in total and visualized them from the task number 2.9. \n",
    "\tLastly, I have tested the significant effect that happened to the score with relation to the age band as it has increased significantly from the age band 0 to 35 and above 55. This shows that the score has been going up whenever the people are growing, regardless of what gender they are. \n",
    "\n",
    "Visualization has helped us to understand the relationships between the two data sets and how can check the significant changes that has happened with time between groups. \n",
    "\t \n"
   ]
  }
 ],
 "metadata": {
  "kernelspec": {
   "display_name": "Python 3",
   "language": "python",
   "name": "python3"
  },
  "language_info": {
   "codemirror_mode": {
    "name": "ipython",
    "version": 3
   },
   "file_extension": ".py",
   "mimetype": "text/x-python",
   "name": "python",
   "nbconvert_exporter": "python",
   "pygments_lexer": "ipython3",
   "version": "3.8.8"
  }
 },
 "nbformat": 4,
 "nbformat_minor": 4
}
